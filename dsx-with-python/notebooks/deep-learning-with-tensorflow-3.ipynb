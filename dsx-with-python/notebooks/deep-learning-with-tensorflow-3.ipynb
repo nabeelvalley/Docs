{
    "nbformat_minor": 1, 
    "cells": [
        {
            "source": "# Deep Learning with TensorFlow Module 3\n\n[Based on this CognitiveClass Course](https://cognitiveclass.ai/courses/deep-learning-tensorflow/)", 
            "cell_type": "markdown", 
            "metadata": {
                "collapsed": true
            }
        }
    ], 
    "metadata": {
        "kernelspec": {
            "display_name": "Python 3.5", 
            "name": "python3", 
            "language": "python"
        }, 
        "language_info": {
            "mimetype": "text/x-python", 
            "nbconvert_exporter": "python", 
            "version": "3.5.5", 
            "name": "python", 
            "file_extension": ".py", 
            "pygments_lexer": "ipython3", 
            "codemirror_mode": {
                "version": 3, 
                "name": "ipython"
            }
        }
    }, 
    "nbformat": 4
}