{
    "nbformat_minor": 1, 
    "cells": [
        {
            "source": "# Deep Learning with TensorFlow\n\n[Based on this CognitiveClass Course](https://cognitiveclass.ai/courses/deep-learning-tensorflow/)\n\n## Labs\n\nThe Labs can be found in the `labs/deep-learning-with-tensorflow` directory and are released under MIT\n\n## Introduction to TensorFlow\n\n### What is TensorFlow\n\nOpen source library backed by C/C++ and uses a data flow graph base\n\nTensorflow provides a Python and C++ API as well as CPU/GPU/and Distributed Processing\n\n### Data Flow Graphs\n\nDFGs are made of **nodes** which are mathematical operations and **edges** which are tensors that flow between the operations, this allows us to visualize our graphs\n\nTensors are simply multi-dimensional arrays which can allow us to represent complex data structures\n\nThe different elements of the dataflow can be more easily seen in the Lab for the first section\n\n## Hello World\n\nTensorFlow carries out operations in the form of steps in a graph, an example procedure can be seen in the section 1 labs\n\n### Lab - Hello World\n\nFirst, we need to import TensorFlow", 
            "cell_type": "markdown", 
            "metadata": {
                "collapsed": true
            }
        }, 
        {
            "execution_count": 23, 
            "cell_type": "code", 
            "metadata": {}, 
            "outputs": [], 
            "source": "import tensorflow as tf"
        }, 
        {
            "source": "#### Build a Graph\n\nSince TF uses a graph computation model, we need to create a graph object to work with", 
            "cell_type": "markdown", 
            "metadata": {}
        }, 
        {
            "execution_count": 24, 
            "cell_type": "code", 
            "metadata": {}, 
            "outputs": [], 
            "source": "graph1 = tf.Graph()"
        }, 
        {
            "source": "#### Set Some Values\n\nOnce we have a graph we can define some tensor objects and add them to the `graph1` object\n\nWe can add 2 constants to the graph by calling `tf.constant()`, this will add a single `tf.Operation` to the graph and returns a `tf.Tensor` object", 
            "cell_type": "markdown", 
            "metadata": {}
        }, 
        {
            "execution_count": 25, 
            "cell_type": "code", 
            "metadata": {}, 
            "outputs": [], 
            "source": "with graph1.as_default():\n    a = tf.constant([2], name='constant_a')\n    b = tf.constant([3], name='constant_b')"
        }, 
        {
            "execution_count": 26, 
            "cell_type": "code", 
            "metadata": {}, 
            "outputs": [
                {
                    "output_type": "stream", 
                    "name": "stdout", 
                    "text": "a =  Tensor(\"constant_a:0\", shape=(1,), dtype=int32) \nb =  Tensor(\"constant_b:0\", shape=(1,), dtype=int32)\n"
                }
            ], 
            "source": "print('a = ', a, '\\nb = ', b)"
        }, 
        {
            "source": "We can see that the tensor only shows its name and type and not it's actual value. The value is evaluated when we run a TF session", 
            "cell_type": "markdown", 
            "metadata": {}
        }, 
        {
            "execution_count": 27, 
            "cell_type": "code", 
            "metadata": {}, 
            "outputs": [
                {
                    "output_type": "stream", 
                    "name": "stdout", 
                    "text": "[2]\n"
                }
            ], 
            "source": "sess = tf.Session(graph=graph1)\nresult = sess.run(a)\nprint(result)\nsess.close()"
        }, 
        {
            "source": "#### Define an Operation\n\nNext we can add the two tensors in one of two ways, either using the `+` operator as `c = a + b` or with `tf.add()`", 
            "cell_type": "markdown", 
            "metadata": {}
        }, 
        {
            "execution_count": 28, 
            "cell_type": "code", 
            "metadata": {}, 
            "outputs": [], 
            "source": "with graph1.as_default():\n    c =  tf.add(a, b)"
        }, 
        {
            "execution_count": 29, 
            "cell_type": "code", 
            "metadata": {}, 
            "outputs": [
                {
                    "output_type": "stream", 
                    "name": "stdout", 
                    "text": "[5]\n"
                }
            ], 
            "source": "sess = tf.Session(graph=graph1)\nresult = sess.run(c)\nprint(result)\nsess.close()"
        }, 
        {
            "source": "#### Manage Session\n\nWe can avoid having to close the session by using a `with` block", 
            "cell_type": "markdown", 
            "metadata": {}
        }, 
        {
            "execution_count": 30, 
            "cell_type": "code", 
            "metadata": {}, 
            "outputs": [
                {
                    "output_type": "stream", 
                    "name": "stdout", 
                    "text": "[5]\n"
                }
            ], 
            "source": "with tf.Session(graph=graph1) as sess:\n    result = sess.run(c)\n    print(result)"
        }, 
        {
            "source": "#### What's a Tensor?\n\nTensors are simply mathematical arrays, these can be seen to be as follows\n\n| Dimension | Physical Representation | Mathematical Object | Code | \n| --- | --- | --- | --- | \n| Zero | Point | Scalar | \\[1\\] |\n| One | Line | Vector | \\[1,2,3,4\\] |\n| Two | Surface | Matrix | \\[\\[1,2,3,4\\],\\[1,2,3,4\\]\\] |\n| Three | Volume | Tensor | \\[\\[\\[1,2\\],\\[1,2\\]\\]\\, \\[\\[1,2\\],\\[1,2\\]\\]] |\n\n#### Make some Tensors\n\nWe can define these using TF as follows", 
            "cell_type": "markdown", 
            "metadata": {}
        }, 
        {
            "execution_count": 31, 
            "cell_type": "code", 
            "metadata": {}, 
            "outputs": [
                {
                    "output_type": "stream", 
                    "name": "stdout", 
                    "text": "Scalar: \n 1\n\nVector: \n [1 2 3]\n\nMatrix: \n [[1 2 3]\n [1 2 3]]\n\nTensor: \n [[[1 2 3]\n  [1 2 3]]\n\n [[1 2 3]\n  [1 2 3]]]\n"
                }
            ], 
            "source": "graph2 = tf.Graph()\n\nwith graph2.as_default():\n    scalar = tf.constant(1)\n    vector = tf.constant([1,2,3])\n    matrix = tf.constant([[1,2,3],[1,2,3]])\n    tensor = tf.constant([[[1,2,3],[1,2,3]], [[1,2,3],[1,2,3]]])\n\nwith tf.Session(graph=graph2) as sess:\n    print('Scalar: \\n', sess.run(scalar))\n    print('\\nVector: \\n', sess.run(vector))    \n    print('\\nMatrix: \\n', sess.run(matrix))    \n    print('\\nTensor: \\n', sess.run(tensor))"
        }, 
        {
            "execution_count": 32, 
            "cell_type": "code", 
            "metadata": {}, 
            "outputs": [
                {
                    "output_type": "stream", 
                    "name": "stdout", 
                    "text": "() (3,) (2, 3) (2, 2, 3)\n"
                }
            ], 
            "source": "print(scalar.shape, vector.shape, matrix.shape, tensor.shape)"
        }, 
        {
            "source": "#### Variables\n\nVariables are used to share and persist stats that the program manipulates, when we define a variable TF adds a `tf.Operation` to our graph, this can store a writable variable that persists between sessions\n\nWe can define a variable with `tf.Variable()` and then running `tf.global_variables.initializer()`", 
            "cell_type": "markdown", 
            "metadata": {}
        }, 
        {
            "execution_count": 33, 
            "cell_type": "code", 
            "metadata": {}, 
            "outputs": [], 
            "source": "v = tf.Variable(0)"
        }, 
        {
            "source": "We can change the variable's value with `tf.assign()`", 
            "cell_type": "markdown", 
            "metadata": {}
        }, 
        {
            "execution_count": 34, 
            "cell_type": "code", 
            "metadata": {}, 
            "outputs": [], 
            "source": "update = tf.assign(v, v+1)"
        }, 
        {
            "execution_count": 35, 
            "cell_type": "code", 
            "metadata": {}, 
            "outputs": [], 
            "source": "init_op = tf.global_variables_initializer()"
        }, 
        {
            "execution_count": 38, 
            "cell_type": "code", 
            "metadata": {}, 
            "outputs": [
                {
                    "output_type": "stream", 
                    "name": "stdout", 
                    "text": "0\n1\n2\n3\n"
                }
            ], 
            "source": "with tf.Session()  as sess:\n    sess.run(init_op)\n    print(sess.run(v))\n    for _ in range(3):\n        sess.run(update)\n        print(sess.run(v))"
        }, 
        {
            "source": "#### Placeholders\n\nPlaceholders can be seen as holes in the model into which we will pass data in from outside the graph. These can be defined with `tf.placeholder()`\n\n|Data type\t|Python type|Description|\n| --------- | --------- | --------- |\n|DT_FLOAT\t|tf.float32\t|32 bits floating point.|\n|DT_DOUBLE\t|tf.float64\t|64 bits floating point.|\n|DT_INT8\t|tf.int8\t|8 bits signed integer.|\n|DT_INT16\t|tf.int16\t|16 bits signed integer.|\n|DT_INT32\t|tf.int32\t|32 bits signed integer.|\n|DT_INT64\t|tf.int64\t|64 bits signed integer.|\n|DT_UINT8\t|tf.uint8\t|8 bits unsigned integer.|\n|DT_STRING\t|tf.string\t|Variable length byte arrays. Each element of a Tensor is a byte array.|\n|DT_BOOL\t|tf.bool\t|Boolean.|\n|DT_COMPLEX64\t|tf.complex64\t|Complex number made of two 32 bits floating points: real and imaginary parts.|\n|DT_COMPLEX128\t|tf.complex128\t|Complex number made of two 64 bits floating points: real and imaginary parts.|\n|DT_QINT8\t|tf.qint8\t|8 bits signed integer used in quantized Ops.|\n|DT_QINT32\t|tf.qint32\t|32 bits signed integer used in quantized Ops.|\n|DT_QUINT8\t|tf.quint8\t|8 bits unsigned integer used in quantized Ops.|\n\nWe can define a simple placeholder and operation as follows", 
            "cell_type": "markdown", 
            "metadata": {}
        }, 
        {
            "execution_count": 41, 
            "cell_type": "code", 
            "metadata": {}, 
            "outputs": [], 
            "source": "a = tf.placeholder(tf.float32)\nb = a * 2"
        }, 
        {
            "source": "#### Pass in the Value\n\nWe can pass the actual value for the variable with the `feed_dict` parameter of `sess.run()`", 
            "cell_type": "markdown", 
            "metadata": {}
        }, 
        {
            "execution_count": 42, 
            "cell_type": "code", 
            "metadata": {}, 
            "outputs": [
                {
                    "output_type": "stream", 
                    "name": "stdout", 
                    "text": "7.0\n"
                }
            ], 
            "source": "with tf.Session() as sess:\n    result = sess.run(b, feed_dict={a:3.5})\n    print(result)"
        }, 
        {
            "execution_count": 43, 
            "cell_type": "code", 
            "metadata": {}, 
            "outputs": [
                {
                    "output_type": "stream", 
                    "name": "stdout", 
                    "text": "[[[  2.   4.   6.]\n  [  8.  10.  12.]\n  [ 14.  16.  18.]\n  [ 20.  22.  24.]]\n\n [[ 26.  28.  30.]\n  [ 32.  34.  36.]\n  [ 38.  40.  42.]\n  [ 44.  46.  48.]]]\n"
                }
            ], 
            "source": "dictionary = {a: [[[1,2,3],[4,5,6],[7,8,9],[10,11,12]] , \n                  [[13,14,15],[16,17,18],[19,20,21],[22,23,24]]]}\n\nwith tf.Session() as sess:\n    result = sess.run(b,feed_dict=dictionary)\n    print (result)"
        }, 
        {
            "source": " #### Operations\n \n Operations are nodes in the graph that represent mathematical operations over tensors, these can be any kind of functions such as `tf.constant()`, `tf.matmul()`, `tf.add()`, `tf.nn.sigmoid`, [among others](https://www.tensorflow.org/api_docs/python)", 
            "cell_type": "markdown", 
            "metadata": {}
        }, 
        {
            "execution_count": 44, 
            "cell_type": "code", 
            "metadata": {}, 
            "outputs": [
                {
                    "output_type": "stream", 
                    "name": "stdout", 
                    "text": "[3]\n"
                }
            ], 
            "source": "graph5 = tf.Graph()\n\nwith graph5.as_default():\n    a = tf.constant([5])\n    b = tf.constant([2])\n    c = tf.subtract(a, b)\n    \nwith tf.Session(graph=graph5) as sess:\n    print(sess.run(c))"
        }, 
        {
            "execution_count": null, 
            "cell_type": "code", 
            "metadata": {}, 
            "outputs": [], 
            "source": ""
        }
    ], 
    "metadata": {
        "kernelspec": {
            "display_name": "Python 3.5", 
            "name": "python3", 
            "language": "python"
        }, 
        "language_info": {
            "mimetype": "text/x-python", 
            "nbconvert_exporter": "python", 
            "version": "3.5.5", 
            "name": "python", 
            "file_extension": ".py", 
            "pygments_lexer": "ipython3", 
            "codemirror_mode": {
                "version": 3, 
                "name": "ipython"
            }
        }
    }, 
    "nbformat": 4
}