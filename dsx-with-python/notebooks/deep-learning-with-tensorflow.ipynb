{
    "nbformat_minor": 1, 
    "cells": [
        {
            "source": "# Deep Learning with TensorFlow\n\n[Based on this CognitiveClass Course](https://cognitiveclass.ai/courses/deep-learning-tensorflow/)\n\n## Labs\n\nThe Labs can be found in the `labs/deep-learning-with-tensorflow` directory and are released under MIT\n\n## Introduction to TensorFlow\n\n### What is TensorFlow\n\nOpen source library backed by C/C++ and uses a data flow graph base\n\nTensorflow provides a Python and C++ API as well as CPU/GPU/and Distributed Processing\n\n### Data Flow Graphs\n\nDFGs are made of **nodes** which are mathematical operations and **edges** which are tensors that flow between the operations, this allows us to visualize our graphs\n\nTensors are simply multi-dimensional arrays which can allow us to represent complex data structures\n\nThe different elements of the dataflow can be more easily seen in the Lab for the first section\n\n## Hello World\n\nTensorFlow carries out operations in the form of steps in a graph, an example procedure can be seen in the section 1 labs\n\n### Lab - Hello World\n\nFirst, we need to import TensorFlow", 
            "cell_type": "markdown", 
            "metadata": {
                "collapsed": true
            }
        }, 
        {
            "execution_count": 1, 
            "cell_type": "code", 
            "metadata": {}, 
            "outputs": [], 
            "source": "import tensorflow as tf"
        }, 
        {
            "source": "#### Build a Graph\n\nSince TF uses a graph computation model, we need to create a graph object to work with", 
            "cell_type": "markdown", 
            "metadata": {}
        }, 
        {
            "execution_count": 2, 
            "cell_type": "code", 
            "metadata": {}, 
            "outputs": [], 
            "source": "graph1 = tf.Graph()"
        }, 
        {
            "source": "#### Set Some Values\n\nOnce we have a graph we can define some tensor objects and add them to the `graph1` object\n\nWe can add 2 constants to the graph by calling `tf.constant()`, this will add a single `tf.Operation` to the graph and returns a `tf.Tensor` object", 
            "cell_type": "markdown", 
            "metadata": {}
        }, 
        {
            "execution_count": 3, 
            "cell_type": "code", 
            "metadata": {}, 
            "outputs": [], 
            "source": "with graph1.as_default():\n    a = tf.constant([2], name='constant_a')\n    b = tf.constant([3], name='constant_b')"
        }, 
        {
            "execution_count": 4, 
            "cell_type": "code", 
            "metadata": {}, 
            "outputs": [
                {
                    "output_type": "stream", 
                    "name": "stdout", 
                    "text": "a =  Tensor(\"constant_a:0\", shape=(1,), dtype=int32) \nb =  Tensor(\"constant_b:0\", shape=(1,), dtype=int32)\n"
                }
            ], 
            "source": "print('a = ', a, '\\nb = ', b)"
        }, 
        {
            "source": "We can see that the tensor only shows its name and type and not it's actual value. The value is evaluated when we run a TF session", 
            "cell_type": "markdown", 
            "metadata": {}
        }, 
        {
            "execution_count": 5, 
            "cell_type": "code", 
            "metadata": {}, 
            "outputs": [
                {
                    "output_type": "stream", 
                    "name": "stdout", 
                    "text": "[2]\n"
                }
            ], 
            "source": "sess = tf.Session(graph=graph1)\nresult = sess.run(a)\nprint(result)\nsess.close()"
        }, 
        {
            "source": "#### Define an Operation\n\nNext we can add the two tensors in one of two ways, either using the `+` operator as `c = a + b` or with `tf.add()`", 
            "cell_type": "markdown", 
            "metadata": {}
        }, 
        {
            "execution_count": 6, 
            "cell_type": "code", 
            "metadata": {}, 
            "outputs": [], 
            "source": "with graph1.as_default():\n    c =  tf.add(a, b)"
        }, 
        {
            "execution_count": 7, 
            "cell_type": "code", 
            "metadata": {}, 
            "outputs": [
                {
                    "output_type": "stream", 
                    "name": "stdout", 
                    "text": "[5]\n"
                }
            ], 
            "source": "sess = tf.Session(graph=graph1)\nresult = sess.run(c)\nprint(result)\nsess.close()"
        }, 
        {
            "source": "#### Manage Session\n\nWe can avoid having to close the session by using a `with` block", 
            "cell_type": "markdown", 
            "metadata": {}
        }, 
        {
            "execution_count": 8, 
            "cell_type": "code", 
            "metadata": {}, 
            "outputs": [
                {
                    "output_type": "stream", 
                    "name": "stdout", 
                    "text": "[5]\n"
                }
            ], 
            "source": "with tf.Session(graph=graph1) as sess:\n    result = sess.run(c)\n    print(result)"
        }, 
        {
            "source": "#### What's a Tensor?\n\nTensors are simply mathematical arrays, these can be seen to be as follows\n\n| Dimension | Physical Representation | Mathematical Object | Code | \n| --- | --- | --- | --- | \n| Zero | Point | Scalar | \\[1\\] |\n| One | Line | Vector | \\[1,2,3,4\\] |\n| Two | Surface | Matrix | \\[\\[1,2,3,4\\],\\[1,2,3,4\\]\\] |\n| Three | Volume | Tensor | \\[\\[\\[1,2\\],\\[1,2\\]\\]\\, \\[\\[1,2\\],\\[1,2\\]\\]] |\n\n#### Make some Tensors\n\nWe can define these using TF as follows", 
            "cell_type": "markdown", 
            "metadata": {}
        }, 
        {
            "execution_count": 9, 
            "cell_type": "code", 
            "metadata": {}, 
            "outputs": [
                {
                    "output_type": "stream", 
                    "name": "stdout", 
                    "text": "Scalar: \n 1\n\nVector: \n [1 2 3]\n\nMatrix: \n [[1 2 3]\n [1 2 3]]\n\nTensor: \n [[[1 2 3]\n  [1 2 3]]\n\n [[1 2 3]\n  [1 2 3]]]\n"
                }
            ], 
            "source": "graph2 = tf.Graph()\n\nwith graph2.as_default():\n    scalar = tf.constant(1)\n    vector = tf.constant([1,2,3])\n    matrix = tf.constant([[1,2,3],[1,2,3]])\n    tensor = tf.constant([[[1,2,3],[1,2,3]], [[1,2,3],[1,2,3]]])\n\nwith tf.Session(graph=graph2) as sess:\n    print('Scalar: \\n', sess.run(scalar))\n    print('\\nVector: \\n', sess.run(vector))    \n    print('\\nMatrix: \\n', sess.run(matrix))    \n    print('\\nTensor: \\n', sess.run(tensor))"
        }, 
        {
            "execution_count": 10, 
            "cell_type": "code", 
            "metadata": {}, 
            "outputs": [
                {
                    "output_type": "stream", 
                    "name": "stdout", 
                    "text": "() (3,) (2, 3) (2, 2, 3)\n"
                }
            ], 
            "source": "print(scalar.shape, vector.shape, matrix.shape, tensor.shape)"
        }, 
        {
            "source": "#### Variables\n\nVariables are used to share and persist stats that the program manipulates, when we define a variable TF adds a `tf.Operation` to our graph, this can store a writable variable that persists between sessions\n\nWe can define a variable with `tf.Variable()` and then running `tf.global_variables.initializer()`", 
            "cell_type": "markdown", 
            "metadata": {}
        }, 
        {
            "execution_count": 11, 
            "cell_type": "code", 
            "metadata": {}, 
            "outputs": [], 
            "source": "v = tf.Variable(0)"
        }, 
        {
            "source": "We can change the variable's value with `tf.assign()`", 
            "cell_type": "markdown", 
            "metadata": {}
        }, 
        {
            "execution_count": 12, 
            "cell_type": "code", 
            "metadata": {}, 
            "outputs": [], 
            "source": "update = tf.assign(v, v+1)"
        }, 
        {
            "execution_count": 13, 
            "cell_type": "code", 
            "metadata": {}, 
            "outputs": [], 
            "source": "init_op = tf.global_variables_initializer()"
        }, 
        {
            "execution_count": 14, 
            "cell_type": "code", 
            "metadata": {}, 
            "outputs": [
                {
                    "output_type": "stream", 
                    "name": "stdout", 
                    "text": "0\n1\n2\n3\n"
                }
            ], 
            "source": "with tf.Session()  as sess:\n    sess.run(init_op)\n    print(sess.run(v))\n    for _ in range(3):\n        sess.run(update)\n        print(sess.run(v))"
        }, 
        {
            "source": "#### Placeholders\n\nPlaceholders can be seen as holes in the model into which we will pass data in from outside the graph. These can be defined with `tf.placeholder()`\n\n|Data type\t|Python type|Description|\n| --------- | --------- | --------- |\n|DT_FLOAT\t|tf.float32\t|32 bits floating point.|\n|DT_DOUBLE\t|tf.float64\t|64 bits floating point.|\n|DT_INT8\t|tf.int8\t|8 bits signed integer.|\n|DT_INT16\t|tf.int16\t|16 bits signed integer.|\n|DT_INT32\t|tf.int32\t|32 bits signed integer.|\n|DT_INT64\t|tf.int64\t|64 bits signed integer.|\n|DT_UINT8\t|tf.uint8\t|8 bits unsigned integer.|\n|DT_STRING\t|tf.string\t|Variable length byte arrays. Each element of a Tensor is a byte array.|\n|DT_BOOL\t|tf.bool\t|Boolean.|\n|DT_COMPLEX64\t|tf.complex64\t|Complex number made of two 32 bits floating points: real and imaginary parts.|\n|DT_COMPLEX128\t|tf.complex128\t|Complex number made of two 64 bits floating points: real and imaginary parts.|\n|DT_QINT8\t|tf.qint8\t|8 bits signed integer used in quantized Ops.|\n|DT_QINT32\t|tf.qint32\t|32 bits signed integer used in quantized Ops.|\n|DT_QUINT8\t|tf.quint8\t|8 bits unsigned integer used in quantized Ops.|\n\nWe can define a simple placeholder and operation as follows", 
            "cell_type": "markdown", 
            "metadata": {}
        }, 
        {
            "execution_count": 15, 
            "cell_type": "code", 
            "metadata": {}, 
            "outputs": [], 
            "source": "a = tf.placeholder(tf.float32)\nb = a * 2"
        }, 
        {
            "source": "#### Pass in the Value\n\nWe can pass the actual value for the variable with the `feed_dict` parameter of `sess.run()`", 
            "cell_type": "markdown", 
            "metadata": {}
        }, 
        {
            "execution_count": 16, 
            "cell_type": "code", 
            "metadata": {}, 
            "outputs": [
                {
                    "output_type": "stream", 
                    "name": "stdout", 
                    "text": "7.0\n"
                }
            ], 
            "source": "with tf.Session() as sess:\n    result = sess.run(b, feed_dict={a:3.5})\n    print(result)"
        }, 
        {
            "execution_count": 17, 
            "cell_type": "code", 
            "metadata": {}, 
            "outputs": [
                {
                    "output_type": "stream", 
                    "name": "stdout", 
                    "text": "[[[  2.   4.   6.]\n  [  8.  10.  12.]\n  [ 14.  16.  18.]\n  [ 20.  22.  24.]]\n\n [[ 26.  28.  30.]\n  [ 32.  34.  36.]\n  [ 38.  40.  42.]\n  [ 44.  46.  48.]]]\n"
                }
            ], 
            "source": "dictionary = {a: [[[1,2,3],[4,5,6],[7,8,9],[10,11,12]] , \n                  [[13,14,15],[16,17,18],[19,20,21],[22,23,24]]]}\n\nwith tf.Session() as sess:\n    result = sess.run(b,feed_dict=dictionary)\n    print (result)"
        }, 
        {
            "source": " #### Operations\n \n Operations are nodes in the graph that represent mathematical operations over tensors, these can be any kind of functions such as `tf.constant()`, `tf.matmul()`, `tf.add()`, `tf.nn.sigmoid`, [among others](https://www.tensorflow.org/api_docs/python)", 
            "cell_type": "markdown", 
            "metadata": {}
        }, 
        {
            "execution_count": 18, 
            "cell_type": "code", 
            "metadata": {}, 
            "outputs": [
                {
                    "output_type": "stream", 
                    "name": "stdout", 
                    "text": "[3]\n"
                }
            ], 
            "source": "graph5 = tf.Graph()\n\nwith graph5.as_default():\n    a = tf.constant([5])\n    b = tf.constant([2])\n    c = tf.subtract(a, b)\n    \nwith tf.Session(graph=graph5) as sess:\n    print(sess.run(c))"
        }, 
        {
            "source": "### Lab - Linear Regression\n\nA simple linear model will be approcimated using the TF library\n\nA linear model can be represented by the following equation:\n\n$$\ny=ax+b\n$$\n\n#### Import Libraries\n\nBefore we can start, we need to import some libraries", 
            "cell_type": "markdown", 
            "metadata": {}
        }, 
        {
            "execution_count": 19, 
            "cell_type": "code", 
            "metadata": {}, 
            "outputs": [], 
            "source": "import matplotlib.pyplot as plt\nimport pandas as pd\nimport pylab as pl\nimport numpy as np\nimport tensorflow as tf\nimport matplotlib.patches as mpatches\nimport matplotlib.pyplot as plt\n%matplotlib inline\nplt.rcParams['figure.figsize'] = (10, 6)"
        }, 
        {
            "source": "#### Get the Data\n\nThe dataset will be the [**Fuel Consumption**](http://open.canada.ca/data/en/dataset/98f1a129-f628-4ce4-b24d-6f16bf24dd64) dataset which consists of the following fields\n\n- **MODELYEAR** e.g. 2014\n- **MAKE** e.g. Acura\n- **MODEL** e.g. ILX\n- **VEHICLE CLASS** e.g. SUV\n- **ENGINE SIZE** e.g. 4.7\n- **CYLINDERS** e.g 6\n- **TRANSMISSION** e.g. A6\n- **FUEL CONSUMPTION in CITY(L/100 km)** e.g. 9.9\n- **FUEL CONSUMPTION in HWY (L/100 km)** e.g. 8.9\n- **FUEL CONSUMPTION COMB (L/100 km)** e.g. 9.2\n- **CO2 EMISSIONS (g/km)** e.g. 182   --> low --> 0", 
            "cell_type": "markdown", 
            "metadata": {}
        }, 
        {
            "execution_count": 20, 
            "cell_type": "code", 
            "metadata": {}, 
            "outputs": [
                {
                    "output_type": "stream", 
                    "name": "stdout", 
                    "text": "--2019-02-06 12:49:55--  https://s3-api.us-geo.objectstorage.softlayer.net/cf-courses-data/CognitiveClass/ML0101ENv3/labs/FuelConsumptionCo2.csv\nResolving s3-api.us-geo.objectstorage.softlayer.net (s3-api.us-geo.objectstorage.softlayer.net)... 67.228.254.193\nConnecting to s3-api.us-geo.objectstorage.softlayer.net (s3-api.us-geo.objectstorage.softlayer.net)|67.228.254.193|:443... connected.\nHTTP request sent, awaiting response... 200 OK\nLength: 72629 (71K) [text/csv]\nSaving to: \u2018FuelConsumption.csv\u2019\n\n100%[======================================>] 72,629      --.-K/s   in 0.1s    \n\n2019-02-06 12:49:55 (476 KB/s) - \u2018FuelConsumption.csv\u2019 saved [72629/72629]\n\n"
                }
            ], 
            "source": "!wget -O FuelConsumption.csv https://s3-api.us-geo.objectstorage.softlayer.net/cf-courses-data/CognitiveClass/ML0101ENv3/labs/FuelConsumptionCo2.csv"
        }, 
        {
            "execution_count": 21, 
            "cell_type": "code", 
            "metadata": {}, 
            "outputs": [
                {
                    "execution_count": 21, 
                    "metadata": {}, 
                    "data": {
                        "text/html": "<div>\n<style scoped>\n    .dataframe tbody tr th:only-of-type {\n        vertical-align: middle;\n    }\n\n    .dataframe tbody tr th {\n        vertical-align: top;\n    }\n\n    .dataframe thead th {\n        text-align: right;\n    }\n</style>\n<table border=\"1\" class=\"dataframe\">\n  <thead>\n    <tr style=\"text-align: right;\">\n      <th></th>\n      <th>MODELYEAR</th>\n      <th>MAKE</th>\n      <th>MODEL</th>\n      <th>VEHICLECLASS</th>\n      <th>ENGINESIZE</th>\n      <th>CYLINDERS</th>\n      <th>TRANSMISSION</th>\n      <th>FUELTYPE</th>\n      <th>FUELCONSUMPTION_CITY</th>\n      <th>FUELCONSUMPTION_HWY</th>\n      <th>FUELCONSUMPTION_COMB</th>\n      <th>FUELCONSUMPTION_COMB_MPG</th>\n      <th>CO2EMISSIONS</th>\n    </tr>\n  </thead>\n  <tbody>\n    <tr>\n      <th>0</th>\n      <td>2014</td>\n      <td>ACURA</td>\n      <td>ILX</td>\n      <td>COMPACT</td>\n      <td>2.0</td>\n      <td>4</td>\n      <td>AS5</td>\n      <td>Z</td>\n      <td>9.9</td>\n      <td>6.7</td>\n      <td>8.5</td>\n      <td>33</td>\n      <td>196</td>\n    </tr>\n    <tr>\n      <th>1</th>\n      <td>2014</td>\n      <td>ACURA</td>\n      <td>ILX</td>\n      <td>COMPACT</td>\n      <td>2.4</td>\n      <td>4</td>\n      <td>M6</td>\n      <td>Z</td>\n      <td>11.2</td>\n      <td>7.7</td>\n      <td>9.6</td>\n      <td>29</td>\n      <td>221</td>\n    </tr>\n    <tr>\n      <th>2</th>\n      <td>2014</td>\n      <td>ACURA</td>\n      <td>ILX HYBRID</td>\n      <td>COMPACT</td>\n      <td>1.5</td>\n      <td>4</td>\n      <td>AV7</td>\n      <td>Z</td>\n      <td>6.0</td>\n      <td>5.8</td>\n      <td>5.9</td>\n      <td>48</td>\n      <td>136</td>\n    </tr>\n    <tr>\n      <th>3</th>\n      <td>2014</td>\n      <td>ACURA</td>\n      <td>MDX 4WD</td>\n      <td>SUV - SMALL</td>\n      <td>3.5</td>\n      <td>6</td>\n      <td>AS6</td>\n      <td>Z</td>\n      <td>12.7</td>\n      <td>9.1</td>\n      <td>11.1</td>\n      <td>25</td>\n      <td>255</td>\n    </tr>\n    <tr>\n      <th>4</th>\n      <td>2014</td>\n      <td>ACURA</td>\n      <td>RDX AWD</td>\n      <td>SUV - SMALL</td>\n      <td>3.5</td>\n      <td>6</td>\n      <td>AS6</td>\n      <td>Z</td>\n      <td>12.1</td>\n      <td>8.7</td>\n      <td>10.6</td>\n      <td>27</td>\n      <td>244</td>\n    </tr>\n  </tbody>\n</table>\n</div>", 
                        "text/plain": "   MODELYEAR   MAKE       MODEL VEHICLECLASS  ENGINESIZE  CYLINDERS  \\\n0       2014  ACURA         ILX      COMPACT         2.0          4   \n1       2014  ACURA         ILX      COMPACT         2.4          4   \n2       2014  ACURA  ILX HYBRID      COMPACT         1.5          4   \n3       2014  ACURA     MDX 4WD  SUV - SMALL         3.5          6   \n4       2014  ACURA     RDX AWD  SUV - SMALL         3.5          6   \n\n  TRANSMISSION FUELTYPE  FUELCONSUMPTION_CITY  FUELCONSUMPTION_HWY  \\\n0          AS5        Z                   9.9                  6.7   \n1           M6        Z                  11.2                  7.7   \n2          AV7        Z                   6.0                  5.8   \n3          AS6        Z                  12.7                  9.1   \n4          AS6        Z                  12.1                  8.7   \n\n   FUELCONSUMPTION_COMB  FUELCONSUMPTION_COMB_MPG  CO2EMISSIONS  \n0                   8.5                        33           196  \n1                   9.6                        29           221  \n2                   5.9                        48           136  \n3                  11.1                        25           255  \n4                  10.6                        27           244  "
                    }, 
                    "output_type": "execute_result"
                }
            ], 
            "source": "df = pd.read_csv(\"FuelConsumption.csv\")\n\n# take a look at the dataset\ndf.head()"
        }, 
        {
            "source": "### Target and Predictor Training Data\n\nNext we can define our $x$ and $y$ variables for training based on the dataframe columns for *Engine Size* and *CO2 Emissions* respectively", 
            "cell_type": "markdown", 
            "metadata": {}
        }, 
        {
            "execution_count": 22, 
            "cell_type": "code", 
            "metadata": {}, 
            "outputs": [], 
            "source": "train_x = np.asanyarray(df[['ENGINESIZE']])\ntrain_y = np.asanyarray(df[['CO2EMISSIONS']])"
        }, 
        {
            "source": "#### Initialize and Define the Operations\n\nWe can initialize `a` and `b` with any random value and then define the relationship", 
            "cell_type": "markdown", 
            "metadata": {}
        }, 
        {
            "execution_count": 23, 
            "cell_type": "code", 
            "metadata": {}, 
            "outputs": [], 
            "source": "a = tf.Variable(20.0)\nb = tf.Variable(30.0)\ny = a * train_x + b"
        }, 
        {
            "source": "#### Define the Losss\n\nNext we need to define a loss function which is essentially the error function. Our model will then work to minimize this. We will use the **MSE** to define the loss (aka error)", 
            "cell_type": "markdown", 
            "metadata": {}
        }, 
        {
            "execution_count": 24, 
            "cell_type": "code", 
            "metadata": {}, 
            "outputs": [], 
            "source": "loss = tf.reduce_mean(tf.square(y - train_y))"
        }, 
        {
            "source": "#### Optimization\n\nNow we need to define an optimization function, in this case *Gradient Descent* which takes in a learning rate as a parameter. A high learning rate will converge faster, however it can also lead to model instability. Using a slow learning rate can reduce convergence rate but will be more likely to converge, however this may only converge to a local min instead of the global one", 
            "cell_type": "markdown", 
            "metadata": {}
        }, 
        {
            "execution_count": 25, 
            "cell_type": "code", 
            "metadata": {}, 
            "outputs": [], 
            "source": "optimizer = tf.train.GradientDescentOptimizer(0.05)"
        }, 
        {
            "source": "#### Training\n\nTo trian we need to define a training method, in this case minimizing the loss", 
            "cell_type": "markdown", 
            "metadata": {}
        }, 
        {
            "execution_count": 26, 
            "cell_type": "code", 
            "metadata": {}, 
            "outputs": [], 
            "source": "train = optimizer.minimize(loss)"
        }, 
        {
            "source": "#### Initialize Variables and Run Session\n\nLastly, we can initialize the variables and run the training session as follows", 
            "cell_type": "markdown", 
            "metadata": {}
        }, 
        {
            "execution_count": 27, 
            "cell_type": "code", 
            "metadata": {}, 
            "outputs": [], 
            "source": "init = tf.global_variables_initializer()"
        }, 
        {
            "execution_count": 28, 
            "cell_type": "code", 
            "metadata": {}, 
            "outputs": [
                {
                    "output_type": "stream", 
                    "name": "stdout", 
                    "text": "0 27056.3 77.138 45.9303\n5 1895.91 58.8885 47.4235\n10 1766.35 57.6921 52.8596\n15 1656.73 56.4048 57.8747\n20 1561.76 55.2084 62.5432\n25 1479.49 54.0949 66.8884\n30 1408.22 53.0585 70.9328\n35 1346.47 52.0938 74.6972\n40 1292.98 51.1959 78.2009\n45 1246.64 50.3602 81.4621\n50 1206.5 49.5824 84.4975\n55 1171.71 48.8584 87.3227\n60 1141.58 48.1845 89.9523\n65 1115.48 47.5573 92.3999\n70 1092.87 46.9735 94.678\n75 1073.28 46.4301 96.7984\n80 1056.31 45.9244 98.772\n85 1041.6 45.4536 100.609\n90 1028.86 45.0155 102.319\n95 1017.83 44.6077 103.91\n"
                }
            ], 
            "source": "loss_values = []\ntrain_data = []\n\nwith tf.Session() as sess:\n    sess.run(init)\n    for step in range(100):\n        _, loss_val, a_val, b_val = sess.run([train, loss, a, b])\n        loss_values.append(loss_val)\n        if step % 5 == 0:\n            print(step, loss_val, a_val, b_val)\n            train_data.append([a_val, b_val])"
        }, 
        {
            "execution_count": 29, 
            "cell_type": "code", 
            "metadata": {}, 
            "outputs": [
                {
                    "execution_count": 29, 
                    "metadata": {}, 
                    "data": {
                        "text/plain": "[<matplotlib.lines.Line2D at 0x7f55f07edeb8>]"
                    }, 
                    "output_type": "execute_result"
                }, 
                {
                    "output_type": "display_data", 
                    "data": {
                        "image/png": "[encoded data removed]", 
                        "text/plain": "<matplotlib.figure.Figure at 0x7f55f07cd3c8>"
                    }, 
                    "metadata": {}
                }
            ], 
            "source": "plt.plot(loss_values, 'o')"
        }, 
        {
            "source": "#### Plot Convergence\n\nWe can visualize the convergernce of the regression line with the following code (that I just copied and do not feel the need to try to interpret because it does weird colour magic)", 
            "cell_type": "markdown", 
            "metadata": {}
        }, 
        {
            "execution_count": 30, 
            "cell_type": "code", 
            "metadata": {}, 
            "outputs": [
                {
                    "execution_count": 30, 
                    "metadata": {}, 
                    "data": {
                        "text/plain": "[<matplotlib.lines.Line2D at 0x7f55f04e6390>]"
                    }, 
                    "output_type": "execute_result"
                }, 
                {
                    "output_type": "display_data", 
                    "data": {
                        "image/png": "[encoded data removed]", 
                        "text/plain": "<matplotlib.figure.Figure at 0x7f55f055f780>"
                    }, 
                    "metadata": {}
                }
            ], 
            "source": "cr, cg, cb = (1.0, 1.0, 0.0)\nfor f in train_data:\n    cb += 1.0 / len(train_data)\n    cg -= 1.0 / len(train_data)\n    if cb > 1.0: cb = 1.0\n    if cg < 0.0: cg = 0.0\n    [a, b] = f\n    f_y = np.vectorize(lambda x: a*x + b)(train_x)\n    line = plt.plot(train_x, f_y)\n    plt.setp(line, color=(cr,cg,cb))\n\n\ngreen_line = mpatches.Patch(color='red', label='Data Points')\nplt.legend(handles=[green_line]) \nplt.plot(train_x, train_y, 'ro')"
        }, 
        {
            "source": "### Lab - Logistic Regression\n\nLogistic Regression is a classification technique which is used to identfy what class a specific datapoint belongs to. Logistic regression is a probabilistic classification model which fits a special s-shaped curve by taking the linear regression ad converting it to a probability with the following function (sigmoid)\n\n$$\nP = P(y) = \\frac{1}{1+e^{-y}}\n$$", 
            "cell_type": "markdown", 
            "metadata": {}
        }, 
        {
            "source": "#### Import Libraries", 
            "cell_type": "markdown", 
            "metadata": {}
        }, 
        {
            "execution_count": 31, 
            "cell_type": "code", 
            "metadata": {}, 
            "outputs": [], 
            "source": "import tensorflow as tf\nimport pandas as pd\nimport numpy as np\nimport time\nfrom sklearn.datasets import load_iris\nfrom sklearn.model_selection import train_test_split\nimport matplotlib.pyplot as plt\n%matplotlib inline"
        }, 
        {
            "source": "#### Iris Dataset\n\nThe Iris dataset can be found [here](https://archive.ics.uci.edu/ml/datasets/iris)", 
            "cell_type": "markdown", 
            "metadata": {}
        }, 
        {
            "execution_count": 32, 
            "cell_type": "code", 
            "metadata": {}, 
            "outputs": [], 
            "source": "iris = load_iris()\niris_x, iris_y = iris.data[:-1,:], iris.target[:-1]\niris_y = pd.get_dummies(iris_y).values\ntrain_x, test_x, train_y, test_y = train_test_split(iris_x, iris_y, test_size=0.33, \n                                                random_state=42)"
        }, 
        {
            "execution_count": 33, 
            "cell_type": "code", 
            "metadata": {}, 
            "outputs": [
                {
                    "execution_count": 33, 
                    "metadata": {}, 
                    "data": {
                        "text/plain": "array([[ 5.1,  3.5,  1.4,  0.2],\n       [ 5.4,  3.4,  1.7,  0.2],\n       [ 5. ,  3.5,  1.3,  0.3],\n       [ 5. ,  2. ,  3.5,  1. ],\n       [ 5.5,  2.4,  3.8,  1.1],\n       [ 6.3,  3.3,  6. ,  2.5],\n       [ 6.9,  3.2,  5.7,  2.3],\n       [ 6.7,  3.1,  5.6,  2.4]])"
                    }, 
                    "output_type": "execute_result"
                }
            ], 
            "source": "iris_x[0::20]"
        }, 
        {
            "execution_count": 34, 
            "cell_type": "code", 
            "metadata": {}, 
            "outputs": [
                {
                    "execution_count": 34, 
                    "metadata": {}, 
                    "data": {
                        "text/plain": "array([[1, 0, 0],\n       [1, 0, 0],\n       [1, 0, 0],\n       [0, 1, 0],\n       [0, 1, 0],\n       [0, 0, 1],\n       [0, 0, 1],\n       [0, 0, 1]], dtype=uint8)"
                    }, 
                    "output_type": "execute_result"
                }
            ], 
            "source": "iris_y[0::20]"
        }, 
        {
            "source": "#### Placeholders\n\nPlaceholders can be used to hold the Iris data for the feature and label matrices in order to define the algorithm, placeholders allw us to change the data being used without modifying the algorithm", 
            "cell_type": "markdown", 
            "metadata": {}
        }, 
        {
            "execution_count": 35, 
            "cell_type": "code", 
            "metadata": {}, 
            "outputs": [
                {
                    "output_type": "stream", 
                    "name": "stdout", 
                    "text": "4 3\n"
                }
            ], 
            "source": "num_features = train_x.shape[1]\nnum_labels = train_y.shape[1]\n\nprint(num_features, num_labels)"
        }, 
        {
            "source": "The Iris Dataset gives us 4 predictor variables and a label that can be one of 3 options (being labelled from 0-2) which are converted to dummies with 3 columns\n\nWe can use `tf.placeholder()` to set the placeholders, the `None` below indicates that TF should not expect a fixed number in that dimension", 
            "cell_type": "markdown", 
            "metadata": {}
        }, 
        {
            "execution_count": 36, 
            "cell_type": "code", 
            "metadata": {}, 
            "outputs": [
                {
                    "output_type": "stream", 
                    "name": "stdout", 
                    "text": "Tensor(\"Placeholder_1:0\", shape=(?, 4), dtype=float32) Tensor(\"Placeholder_2:0\", shape=(?, 3), dtype=float32)\n"
                }
            ], 
            "source": "x = tf.placeholder(tf.float32, [None, num_features])\ny_target = tf.placeholder(tf.float32, [None, num_labels])\n\nprint(x, y_target)"
        }, 
        {
            "source": "### Weights and Biases\n\nA Logistic Regression Model will work to optimize the weights and biases that we use, these values will then be optimized by the model. For our default values we can use random tensors to start with - these values will be optimized\n\nWeights will have the shape of \\[input dimension, output dimension\\] and Biases will have the shape of \\[output dimension\\]\n\nIf we were to use Zero Tensors instead of random, the tensors would be as follows:\n\n```python\nweights = tf.Variable(tf.zeros([num_features, num_labels]))\nbiases = tf.Variable(tf.zeros([1, num_labels]))\n```\n\nWe will define our weights and biases as TF variables as below", 
            "cell_type": "markdown", 
            "metadata": {}
        }, 
        {
            "execution_count": 37, 
            "cell_type": "code", 
            "metadata": {}, 
            "outputs": [
                {
                    "output_type": "stream", 
                    "name": "stdout", 
                    "text": "<tf.Variable 'Variable_3:0' shape=(4, 3) dtype=float32_ref> <tf.Variable 'Variable_4:0' shape=(1, 3) dtype=float32_ref>\n"
                }
            ], 
            "source": "weights_var = tf.Variable(tf.random_normal([num_features, num_labels],\n                                       mean=0,\n                                       stddev=0.01,\n                                       name='weights'))\n\nbiases_var = tf.Variable(tf.random_normal([1, num_labels],\n                                       mean=0,\n                                       stddev=0.01,\n                                       name='bias'))\n\nprint(weights_var, biases_var)"
        }, 
        {
            "source": "#### Logistic Regression Model\n\nThe LRM is represented by the following equation\n\n$$\n\\hat y=\\sigma (Wx+b)\n$$\n\nWhich can be seen to be broken into the following steps\n\n- Multiply by weights\n- Add bias\n- Apply sigmoid\n\nThis can be applied in three separate steps which each make use of the previous as:\n\n```python\napply_weights_op = tf.matmul(X, weights, name=\"apply_weights\")\nadd_bias_op = tf.add(apply_weights_op, bias, name=\"add_bias\") \nactivation_op = tf.nn.sigmoid(add_bias_op, name=\"activation\")\n```\n\nNote that `tf.matmul` is not the same as `tf.multiply` which does element-wise multiplication as opposed to matrix multiplication\n\n```python\ntf.multiply(a, b) == a*b != tf.matmul(a, b)\n```\n\nMaking use of the above information, the operation can be done in a single step as follows", 
            "cell_type": "markdown", 
            "metadata": {}
        }, 
        {
            "execution_count": 38, 
            "cell_type": "code", 
            "metadata": {}, 
            "outputs": [
                {
                    "execution_count": 38, 
                    "metadata": {}, 
                    "data": {
                        "text/plain": "<tf.Tensor 'lr_operation:0' shape=(?, 3) dtype=float32>"
                    }, 
                    "output_type": "execute_result"
                }
            ], 
            "source": "lr_op = tf.nn.sigmoid(tf.matmul(x, weights_var) + biases_var, \n                      name='lr_operation')\nlr_op"
        }, 
        {
            "source": "#### Training\n\nTraining is the process of identifying the optimal Weight and Bias vectors, based on this we need a method o identify our cost. In order to do this we can make use of the cost functions available in TF", 
            "cell_type": "markdown", 
            "metadata": {}
        }, 
        {
            "execution_count": 39, 
            "cell_type": "code", 
            "metadata": {}, 
            "outputs": [], 
            "source": "num_cycles = 1000\n\nlearning_rate = tf.train.exponential_decay(learning_rate=0.0008,\n                                          global_step=1,\n                                          decay_steps=train_x.shape[0],\n                                          decay_rate=0.95,\n                                          staircase=True)\n\ncost_op = tf.nn.l2_loss(lr_op - y_target, name='sqe_cost')\n\ntraining_op = tf.train.GradientDescentOptimizer(learning_rate).minimize(cost_op)"
        }, 
        {
            "execution_count": 50, 
            "cell_type": "code", 
            "metadata": {}, 
            "outputs": [], 
            "source": "sess = tf.Session()"
        }, 
        {
            "source": "> Ensure that you run the initialization operation `sess.run(init_op)`", 
            "cell_type": "markdown", 
            "metadata": {}
        }, 
        {
            "execution_count": 51, 
            "cell_type": "code", 
            "metadata": {}, 
            "outputs": [], 
            "source": "init_op = tf.global_variables_initializer()\nsess.run(init_op)"
        }, 
        {
            "source": "We want to be able to also keep track of some summary statistics for the model over time while we train it, this can be done with:", 
            "cell_type": "markdown", 
            "metadata": {}
        }, 
        {
            "execution_count": 52, 
            "cell_type": "code", 
            "metadata": {}, 
            "outputs": [], 
            "source": "correct_predictions_op = tf.equal(tf.argmax(lr_op, 1), tf.argmax(y_target, 1))\n\naccuracy_op = tf.reduce_mean(tf.cast(correct_predictions_op, 'float'))\n\nactivation_summary_op = tf.summary.histogram('output', lr_op)\n\naccuracy_summary_op = tf.summary.histogram('accuracy', accuracy_op)\n\ncost_summary_op = tf.summary.scalar('cost', cost_op)\n\nweight_summary_op = tf.summary.histogram('weights', weights_var.eval(session=sess))\nbias_summary_op = tf.summary.histogram('biases', biases_var.eval(session=sess))\n\nmerged = tf.summary.merge([activation_summary_op,\n                          accuracy_summary_op,\n                          cost_summary_op,\n                          weight_summary_op,\n                          bias_summary_op])\n\nwriter = tf.summary.FileWriter('sumary_logs', sess.graph)"
        }, 
        {
            "source": "#### Initialize Reporting Variables", 
            "cell_type": "markdown", 
            "metadata": {}
        }, 
        {
            "execution_count": 53, 
            "cell_type": "code", 
            "metadata": {}, 
            "outputs": [], 
            "source": "cost = 0\ndiff = 1\ndiff_values = []\ncycle_values = []\naccuracy_values = []\ncost_values = []"
        }, 
        {
            "source": "#### Train Model", 
            "cell_type": "markdown", 
            "metadata": {}
        }, 
        {
            "execution_count": 54, 
            "cell_type": "code", 
            "metadata": {}, 
            "outputs": [
                {
                    "output_type": "stream", 
                    "name": "stdout", 
                    "text": "step 0 training accuracy 0.606061 new cost 34.6582 change in cost 34.6581802368\nstep 30 training accuracy 0.646465 new cost 26.4751 change in cost 8.18313\nstep 60 training accuracy 0.646465 new cost 23.0802 change in cost 3.3949\nstep 90 training accuracy 0.646465 new cost 21.105 change in cost 1.97513\nstep 120 training accuracy 0.666667 new cost 19.8609 change in cost 1.24415\nstep 150 training accuracy 0.666667 new cost 19.0089 change in cost 0.851986\nstep 180 training accuracy 0.69697 new cost 18.3837 change in cost 0.625233\nstep 210 training accuracy 0.737374 new cost 17.8991 change in cost 0.484522\nstep 240 training accuracy 0.757576 new cost 17.5074 change in cost 0.391768\nstep 270 training accuracy 0.787879 new cost 17.1799 change in cost 0.327444\nstep 300 training accuracy 0.79798 new cost 16.899 change in cost 0.280888\nstep 330 training accuracy 0.79798 new cost 16.6531 change in cost 0.245943\nstep 360 training accuracy 0.828283 new cost 16.4342 change in cost 0.218891\nstep 390 training accuracy 0.838384 new cost 16.2368 change in cost 0.197393\nstep 420 training accuracy 0.848485 new cost 16.0569 change in cost 0.179893\nstep 450 training accuracy 0.868687 new cost 15.8915 change in cost 0.165383\nstep 480 training accuracy 0.878788 new cost 15.7384 change in cost 0.153132\nstep 510 training accuracy 0.878788 new cost 15.5958 change in cost 0.142634\nstep 540 training accuracy 0.89899 new cost 15.4622 change in cost 0.133527\nstep 570 training accuracy 0.89899 new cost 15.3367 change in cost 0.125538\nstep 600 training accuracy 0.909091 new cost 15.2182 change in cost 0.118446\nstep 630 training accuracy 0.909091 new cost 15.1061 change in cost 0.112114\nstep 660 training accuracy 0.909091 new cost 14.9997 change in cost 0.106409\nstep 690 training accuracy 0.909091 new cost 14.8985 change in cost 0.101234\nstep 720 training accuracy 0.909091 new cost 14.802 change in cost 0.0965185\nstep 750 training accuracy 0.909091 new cost 14.7098 change in cost 0.0921974\nstep 780 training accuracy 0.909091 new cost 14.6216 change in cost 0.0882158\nstep 810 training accuracy 0.909091 new cost 14.537 change in cost 0.0845366\nstep 840 training accuracy 0.909091 new cost 14.4559 change in cost 0.0811195\nstep 870 training accuracy 0.919192 new cost 14.378 change in cost 0.0779419\nstep 900 training accuracy 0.919192 new cost 14.303 change in cost 0.074976\nstep 930 training accuracy 0.929293 new cost 14.2308 change in cost 0.0721998\nstep 960 training accuracy 0.929293 new cost 14.1612 change in cost 0.0695944\nstep 990 training accuracy 0.939394 new cost 14.094 change in cost 0.0671444\n"
                }
            ], 
            "source": "for i in range(num_cycles):\n    # check if we have convergence\n    if diff < 0.001:\n        print('change in cost:', diff)\n        break\n    else:\n        # run a training step\n        step = sess.run(training_op, feed_dict={x: train_x, y_target: train_y})\n        # report stats\n        if i % 30 == 0:\n            cycle_values.append(i)\n            train_accuracy = sess.run(accuracy_op,\n                                      feed_dict={x: train_x, y_target: train_y})\n            new_cost = sess.run(cost_op,\n                                feed_dict={x: train_x, y_target: train_y})\n            \n            accuracy_values.append(train_accuracy)\n            cost_values.append(new_cost)\n            diff = abs (new_cost - cost)\n            diff_values.append(diff)\n            cost = new_cost\n        \n            print('step', i, \n                  'training accuracy', train_accuracy,\n                  'new cost', new_cost,\n                  'change in cost', diff)"
        }, 
        {
            "execution_count": 55, 
            "cell_type": "code", 
            "metadata": {}, 
            "outputs": [
                {
                    "output_type": "stream", 
                    "name": "stdout", 
                    "text": "final accuracy on test set: 1.0\n"
                }
            ], 
            "source": "print(\"final accuracy on test set: %s\" %str(sess.run(accuracy_op, \n                                                     feed_dict={x: test_x, \n                                                                y_target: test_y})))"
        }, 
        {
            "source": "#### Close Session", 
            "cell_type": "markdown", 
            "metadata": {}
        }, 
        {
            "execution_count": 56, 
            "cell_type": "code", 
            "metadata": {}, 
            "outputs": [], 
            "source": "sess.close()"
        }, 
        {
            "source": "#### Accuracy and Cost", 
            "cell_type": "markdown", 
            "metadata": {}
        }, 
        {
            "execution_count": 57, 
            "cell_type": "code", 
            "metadata": {}, 
            "outputs": [
                {
                    "output_type": "stream", 
                    "name": "stderr", 
                    "text": "/opt/conda/envs/DSX-Python35/lib/python3.5/site-packages/numpy/core/fromnumeric.py:2909: RuntimeWarning: Mean of empty slice.\n  out=out, **kwargs)\n/opt/conda/envs/DSX-Python35/lib/python3.5/site-packages/numpy/core/_methods.py:80: RuntimeWarning: invalid value encountered in double_scalars\n  ret = ret.dtype.type(ret / rcount)\n"
                }, 
                {
                    "output_type": "display_data", 
                    "data": {
                        "image/png": "[encoded data removed]", 
                        "text/plain": "<matplotlib.figure.Figure at 0x7f5490066278>"
                    }, 
                    "metadata": {}
                }
            ], 
            "source": "plt.plot([np.mean(cost_values[i-50:i]) for i in range(len(cost_values))])\nplt.show()"
        }, 
        {
            "execution_count": 58, 
            "cell_type": "code", 
            "metadata": {}, 
            "outputs": [
                {
                    "output_type": "stream", 
                    "name": "stderr", 
                    "text": "/opt/conda/envs/DSX-Python35/lib/python3.5/site-packages/numpy/core/fromnumeric.py:2909: RuntimeWarning: Mean of empty slice.\n  out=out, **kwargs)\n/opt/conda/envs/DSX-Python35/lib/python3.5/site-packages/numpy/core/_methods.py:80: RuntimeWarning: invalid value encountered in double_scalars\n  ret = ret.dtype.type(ret / rcount)\n"
                }, 
                {
                    "output_type": "display_data", 
                    "data": {
                        "image/png": "[encoded data removed]", 
                        "text/plain": "<matplotlib.figure.Figure at 0x7f54900185c0>"
                    }, 
                    "metadata": {}
                }
            ], 
            "source": "plt.plot([np.mean(diff_values[i-50:i]) for i in range(len(diff_values))])\nplt.show()"
        }, 
        {
            "execution_count": 48, 
            "cell_type": "code", 
            "metadata": {}, 
            "outputs": [
                {
                    "output_type": "stream", 
                    "name": "stderr", 
                    "text": "/opt/conda/envs/DSX-Python35/lib/python3.5/site-packages/numpy/core/fromnumeric.py:2909: RuntimeWarning: Mean of empty slice.\n  out=out, **kwargs)\n/opt/conda/envs/DSX-Python35/lib/python3.5/site-packages/numpy/core/_methods.py:80: RuntimeWarning: invalid value encountered in double_scalars\n  ret = ret.dtype.type(ret / rcount)\n"
                }, 
                {
                    "output_type": "display_data", 
                    "data": {
                        "image/png": "[encoded data removed]", 
                        "text/plain": "<matplotlib.figure.Figure at 0x7f54c804c780>"
                    }, 
                    "metadata": {}
                }
            ], 
            "source": "plt.plot([np.mean(accuracy_values[i-50:i]) for i in range(len(accuracy_values))])\nplt.show()"
        }, 
        {
            "execution_count": null, 
            "cell_type": "code", 
            "metadata": {}, 
            "outputs": [], 
            "source": ""
        }
    ], 
    "metadata": {
        "kernelspec": {
            "display_name": "Python 3.5", 
            "name": "python3", 
            "language": "python"
        }, 
        "language_info": {
            "mimetype": "text/x-python", 
            "nbconvert_exporter": "python", 
            "version": "3.5.5", 
            "name": "python", 
            "file_extension": ".py", 
            "pygments_lexer": "ipython3", 
            "codemirror_mode": {
                "version": 3, 
                "name": "ipython"
            }
        }
    }, 
    "nbformat": 4
}